{
  "nbformat": 4,
  "nbformat_minor": 0,
  "metadata": {
    "colab": {
      "name": "Chapter 6_Final_Thompson and Random Sampling",
      "provenance": [],
      "collapsed_sections": [],
      "authorship_tag": "ABX9TyMCpzRQLD6QI+0bC5DIQMOj",
      "include_colab_link": true
    },
    "kernelspec": {
      "name": "python3",
      "display_name": "Python 3"
    }
  },
  "cells": [
    {
      "cell_type": "markdown",
      "metadata": {
        "id": "view-in-github",
        "colab_type": "text"
      },
      "source": [
        "<a href=\"https://colab.research.google.com/github/gunnar402/AI-Crash-Course-Chapter-6/blob/main/Chapter_6_Final_Thompson_and_Random_Sampling.ipynb\" target=\"_parent\"><img src=\"https://colab.research.google.com/assets/colab-badge.svg\" alt=\"Open In Colab\"/></a>"
      ]
    },
    {
      "cell_type": "code",
      "metadata": {
        "id": "Cs2IN8VMS3gr",
        "colab": {
          "base_uri": "https://localhost:8080/",
          "height": 313
        },
        "outputId": "52b41c5c-4cb2-46ed-f4f2-d017cd847ec4"
      },
      "source": [
        "# Chapter 6__AI Advertising with Thomspon Sampling and Random Sampling\n",
        "\n",
        "# Import Libraries\n",
        "import numpy as np\n",
        "import matplotlib.pyplot as plt\n",
        "import random\n",
        "\n",
        "# Creating the simulation environment\n",
        "\n",
        "# Conversion Rates and Samples\n",
        "conversion_rates = [0.05, 0.13, 0.09, 0.16, 0.11, 0.04, 0.20, 0.08, 0.01]\n",
        "N = 10000 # This is number of customers\n",
        "d = 9 # This is number of strategies \n",
        "\n",
        "# Simulation Dataset\n",
        "X = np.array(np.zeros([N,d]))\n",
        "for i in range(N):\n",
        "  for j in range(d):\n",
        "    if np.random.rand() <= conversion_rates[j]:\n",
        "      X[i,j] = 1\n",
        "\n",
        "# Implementing Random Selection and Thompson Sampling\n",
        "strategies_selected_rs = []\n",
        "strategies_selected_ts = []\n",
        "total_rewards_rs = 0\n",
        "total_rewards_ts = 0\n",
        "numbers_of_rewards_1 = [0] * d\n",
        "numbers_of_rewards_0 = [0] * d\n",
        "\n",
        "for n in range(0, N):\n",
        "  # Random Selection\n",
        "  strategy_rs = random.randrange(d)\n",
        "  strategies_selected_rs.append(strategy_rs)\n",
        "  reward_rs = X[n, strategy_rs]\n",
        "  total_rewards_rs = total_rewards_rs + reward_rs\n",
        "\n",
        "  # Thompson Sampling\n",
        "  strategy_ts = 0\n",
        "  max_random = 0\n",
        "  for i in range(0, d):\n",
        "    random_beta = random.betavariate(numbers_of_rewards_1[i] +1, numbers_of_rewards_0[i] +1)\n",
        "    if random_beta > max_random:\n",
        "        max_random = random_beta\n",
        "        strategy_ts = i\n",
        "  reward_ts = X[n, strategy_ts] \n",
        "  if reward_ts == 1:\n",
        "    numbers_of_rewards_1[strategy_ts] = numbers_of_rewards_1[strategy_ts] +1\n",
        "  else:\n",
        "    numbers_of_rewards_0[strategy_ts] = numbers_of_rewards_0[strategy_ts] + 1   \n",
        "  strategies_selected_ts.append(strategy_ts)\n",
        "  total_rewards_ts = total_rewards_ts + reward_ts\n",
        "\n",
        "# Computing Relative Return\n",
        "relative_return = (total_rewards_ts - total_rewards_rs) / total_rewards_rs * 100\n",
        "print(\"Relative Return: {:.0f} %\".format(relative_return))\n",
        "\n",
        "# Plotting Histogram Selections\n",
        "plt.hist(strategies_selected_ts)\n",
        "plt.title('Histogram of Selections')\n",
        "plt.xlabel('Strategy')\n",
        "plt.ylabel('Number of times strategy was selected')\n",
        "plt.show()\n",
        "\n",
        " \n",
        "\n",
        "\n",
        "\n",
        "\n",
        "\n"
      ],
      "execution_count": null,
      "outputs": [
        {
          "output_type": "stream",
          "text": [
            "Relative Return: 95 %\n"
          ],
          "name": "stdout"
        },
        {
          "output_type": "display_data",
          "data": {
            "image/png": "[encoded data removed]",
            "text/plain": [
              "<Figure size 432x288 with 1 Axes>"
            ]
          },
          "metadata": {
            "tags": [],
            "needs_background": "light"
          }
        }
      ]
    }
  ]
}